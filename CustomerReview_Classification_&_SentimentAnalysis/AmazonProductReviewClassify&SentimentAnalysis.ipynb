{
 "cells": [
  {
   "cell_type": "code",
   "execution_count": 2,
   "id": "905971a7",
   "metadata": {},
   "outputs": [],
   "source": [
    "import pandas as pd\n",
    "import numpy as np\n",
    "import nltk"
   ]
  },
  {
   "cell_type": "code",
   "execution_count": 14,
   "id": "082f81c2",
   "metadata": {},
   "outputs": [
    {
     "name": "stdout",
     "output_type": "stream",
     "text": [
      "Requirement already satisfied: xlrd in c:\\users\\chava\\anaconda3\\lib\\site-packages (2.0.1)\n"
     ]
    }
   ],
   "source": [
    "# !pip install contractions\n",
    "# !pip install fasttext\n",
    "# !pip install openpyxl pandas\n",
    "!pip install xlrd"
   ]
  },
  {
   "cell_type": "code",
   "execution_count": 18,
   "id": "0a4b4901",
   "metadata": {
    "scrolled": true
   },
   "outputs": [],
   "source": [
    "df= pd.read_csv(\"https://raw.githubusercontent.com/shardulchavan/Text_Summarization_NLP/master/CustomerReview_Classification_%26_SentimentAnalysis/Amazon-Echo-reviews.csv\")"
   ]
  },
  {
   "cell_type": "code",
   "execution_count": 19,
   "id": "65d2ae12",
   "metadata": {},
   "outputs": [
    {
     "data": {
      "text/html": [
       "<div>\n",
       "<style scoped>\n",
       "    .dataframe tbody tr th:only-of-type {\n",
       "        vertical-align: middle;\n",
       "    }\n",
       "\n",
       "    .dataframe tbody tr th {\n",
       "        vertical-align: top;\n",
       "    }\n",
       "\n",
       "    .dataframe thead th {\n",
       "        text-align: right;\n",
       "    }\n",
       "</style>\n",
       "<table border=\"1\" class=\"dataframe\">\n",
       "  <thead>\n",
       "    <tr style=\"text-align: right;\">\n",
       "      <th></th>\n",
       "      <th>Reviews</th>\n",
       "      <th>Ratings</th>\n",
       "    </tr>\n",
       "  </thead>\n",
       "  <tbody>\n",
       "    <tr>\n",
       "      <th>0</th>\n",
       "      <td>\\nThis is an honest review and comparison of t...</td>\n",
       "      <td>Positive</td>\n",
       "    </tr>\n",
       "    <tr>\n",
       "      <th>1</th>\n",
       "      <td>\\nI have my apartment which is not a small apa...</td>\n",
       "      <td>Positive</td>\n",
       "    </tr>\n",
       "    <tr>\n",
       "      <th>2</th>\n",
       "      <td>\\nA friend of mine recently gave me an echo. 2...</td>\n",
       "      <td>Positive</td>\n",
       "    </tr>\n",
       "    <tr>\n",
       "      <th>3</th>\n",
       "      <td>\\nI have had homepod mini, the original homepo...</td>\n",
       "      <td>Positive</td>\n",
       "    </tr>\n",
       "    <tr>\n",
       "      <th>4</th>\n",
       "      <td>\\nThe new Echo 4th Gen is a big change in aest...</td>\n",
       "      <td>Positive</td>\n",
       "    </tr>\n",
       "    <tr>\n",
       "      <th>...</th>\n",
       "      <td>...</td>\n",
       "      <td>...</td>\n",
       "    </tr>\n",
       "    <tr>\n",
       "      <th>4995</th>\n",
       "      <td>\\nI like that you can connect with smart devic...</td>\n",
       "      <td>Positive</td>\n",
       "    </tr>\n",
       "    <tr>\n",
       "      <th>4996</th>\n",
       "      <td>\\nUpgraded  from regular echo dot puck style  ...</td>\n",
       "      <td>Positive</td>\n",
       "    </tr>\n",
       "    <tr>\n",
       "      <th>4997</th>\n",
       "      <td>\\nI love the new ball shape. Its pretty and th...</td>\n",
       "      <td>Positive</td>\n",
       "    </tr>\n",
       "    <tr>\n",
       "      <th>4998</th>\n",
       "      <td>\\neasy to set up and has good sound. have not ...</td>\n",
       "      <td>Positive</td>\n",
       "    </tr>\n",
       "    <tr>\n",
       "      <th>4999</th>\n",
       "      <td>\\nI luv everything abt except I have not yet l...</td>\n",
       "      <td>Positive</td>\n",
       "    </tr>\n",
       "  </tbody>\n",
       "</table>\n",
       "<p>5000 rows × 2 columns</p>\n",
       "</div>"
      ],
      "text/plain": [
       "                                                Reviews   Ratings\n",
       "0     \\nThis is an honest review and comparison of t...  Positive\n",
       "1     \\nI have my apartment which is not a small apa...  Positive\n",
       "2     \\nA friend of mine recently gave me an echo. 2...  Positive\n",
       "3     \\nI have had homepod mini, the original homepo...  Positive\n",
       "4     \\nThe new Echo 4th Gen is a big change in aest...  Positive\n",
       "...                                                 ...       ...\n",
       "4995  \\nI like that you can connect with smart devic...  Positive\n",
       "4996  \\nUpgraded  from regular echo dot puck style  ...  Positive\n",
       "4997  \\nI love the new ball shape. Its pretty and th...  Positive\n",
       "4998  \\neasy to set up and has good sound. have not ...  Positive\n",
       "4999  \\nI luv everything abt except I have not yet l...  Positive\n",
       "\n",
       "[5000 rows x 2 columns]"
      ]
     },
     "execution_count": 19,
     "metadata": {},
     "output_type": "execute_result"
    }
   ],
   "source": [
    "df"
   ]
  },
  {
   "cell_type": "code",
   "execution_count": 20,
   "id": "5f7edffe",
   "metadata": {},
   "outputs": [
    {
     "data": {
      "text/plain": [
       "0       \\nThis is an honest review and comparison of t...\n",
       "1       \\nI have my apartment which is not a small apa...\n",
       "2       \\nA friend of mine recently gave me an echo. 2...\n",
       "3       \\nI have had homepod mini, the original homepo...\n",
       "4       \\nThe new Echo 4th Gen is a big change in aest...\n",
       "                              ...                        \n",
       "4995    \\nI like that you can connect with smart devic...\n",
       "4996    \\nUpgraded  from regular echo dot puck style  ...\n",
       "4997    \\nI love the new ball shape. Its pretty and th...\n",
       "4998    \\neasy to set up and has good sound. have not ...\n",
       "4999    \\nI luv everything abt except I have not yet l...\n",
       "Name: Reviews, Length: 5000, dtype: object"
      ]
     },
     "execution_count": 20,
     "metadata": {},
     "output_type": "execute_result"
    }
   ],
   "source": [
    "df.iloc[:,0]"
   ]
  },
  {
   "cell_type": "code",
   "execution_count": 6,
   "id": "2479ab76",
   "metadata": {},
   "outputs": [
    {
     "name": "stdout",
     "output_type": "stream",
     "text": [
      "(5000, 2)\n"
     ]
    },
    {
     "data": {
      "text/plain": [
       "Reviews    18\n",
       "Ratings     0\n",
       "dtype: int64"
      ]
     },
     "execution_count": 6,
     "metadata": {},
     "output_type": "execute_result"
    }
   ],
   "source": [
    "print(df.shape)\n",
    "#checking null values\n",
    "df.isnull().sum()"
   ]
  },
  {
   "cell_type": "code",
   "execution_count": 7,
   "id": "45c31f28",
   "metadata": {},
   "outputs": [],
   "source": [
    "#dropping the null values\n",
    "df.dropna(axis=0,inplace=True)"
   ]
  },
  {
   "cell_type": "code",
   "execution_count": 8,
   "id": "4a87c96c",
   "metadata": {},
   "outputs": [
    {
     "data": {
      "text/plain": [
       "(4982, 2)"
      ]
     },
     "execution_count": 8,
     "metadata": {},
     "output_type": "execute_result"
    }
   ],
   "source": [
    "df.shape"
   ]
  },
  {
   "cell_type": "code",
   "execution_count": 9,
   "id": "0ad4868c",
   "metadata": {},
   "outputs": [
    {
     "data": {
      "text/plain": [
       "0       \\nThis is an honest review and comparison of t...\n",
       "1       \\nI have my apartment which is not a small apa...\n",
       "2       \\nA friend of mine recently gave me an echo. 2...\n",
       "3       \\nI have had homepod mini, the original homepo...\n",
       "4       \\nThe new Echo 4th Gen is a big change in aest...\n",
       "                              ...                        \n",
       "4995    \\nI like that you can connect with smart devic...\n",
       "4996    \\nUpgraded  from regular echo dot puck style  ...\n",
       "4997    \\nI love the new ball shape. Its pretty and th...\n",
       "4998    \\neasy to set up and has good sound. have not ...\n",
       "4999    \\nI luv everything abt except I have not yet l...\n",
       "Name: Reviews, Length: 4982, dtype: object"
      ]
     },
     "execution_count": 9,
     "metadata": {},
     "output_type": "execute_result"
    }
   ],
   "source": [
    "df[\"Reviews\"]"
   ]
  },
  {
   "cell_type": "markdown",
   "id": "fe47d82e",
   "metadata": {},
   "source": [
    "Preprocessing"
   ]
  },
  {
   "cell_type": "code",
   "execution_count": 10,
   "id": "55b34023",
   "metadata": {},
   "outputs": [
    {
     "data": {
      "text/plain": [
       "0       [This, is, an, honest, review, and, comparison...\n",
       "1       [I, have, my, apartment, which, is, not, a, sm...\n",
       "2       [A, friend, of, mine, recently, gave, me, an, ...\n",
       "3       [I, have, had, homepod, mini,, the, original, ...\n",
       "4       [The, new, Echo, 4th, Gen, is, a, big, change,...\n",
       "                              ...                        \n",
       "4995    [I, like, that, you, can, connect, with, smart...\n",
       "4996    [Upgraded, from, regular, echo, dot, puck, sty...\n",
       "4997    [I, love, the, new, ball, shape., Its, pretty,...\n",
       "4998    [easy, to, set, up, and, has, good, sound., ha...\n",
       "4999    [I, love, everything, about, except, I, have, ...\n",
       "Name: Reviews, Length: 4982, dtype: object"
      ]
     },
     "execution_count": 10,
     "metadata": {},
     "output_type": "execute_result"
    }
   ],
   "source": [
    "#Removing Contractions\n",
    "import contractions\n",
    "df_no_contracts= df[\"Reviews\"].apply(lambda x: [contractions.fix(word) for word in x.split()])\n",
    "df.head()\n",
    "df_no_contracts"
   ]
  },
  {
   "cell_type": "code",
   "execution_count": 11,
   "id": "1df4e3d4",
   "metadata": {},
   "outputs": [
    {
     "data": {
      "text/html": [
       "<div>\n",
       "<style scoped>\n",
       "    .dataframe tbody tr th:only-of-type {\n",
       "        vertical-align: middle;\n",
       "    }\n",
       "\n",
       "    .dataframe tbody tr th {\n",
       "        vertical-align: top;\n",
       "    }\n",
       "\n",
       "    .dataframe thead th {\n",
       "        text-align: right;\n",
       "    }\n",
       "</style>\n",
       "<table border=\"1\" class=\"dataframe\">\n",
       "  <thead>\n",
       "    <tr style=\"text-align: right;\">\n",
       "      <th></th>\n",
       "      <th>Reviews</th>\n",
       "      <th>Ratings</th>\n",
       "      <th>Reviews_Str</th>\n",
       "    </tr>\n",
       "  </thead>\n",
       "  <tbody>\n",
       "    <tr>\n",
       "      <th>0</th>\n",
       "      <td>\\nThis is an honest review and comparison of t...</td>\n",
       "      <td>Positive</td>\n",
       "      <td>This is an honest review and comparison of the...</td>\n",
       "    </tr>\n",
       "    <tr>\n",
       "      <th>1</th>\n",
       "      <td>\\nI have my apartment which is not a small apa...</td>\n",
       "      <td>Positive</td>\n",
       "      <td>I have my apartment which is not a small apart...</td>\n",
       "    </tr>\n",
       "    <tr>\n",
       "      <th>2</th>\n",
       "      <td>\\nA friend of mine recently gave me an echo. 2...</td>\n",
       "      <td>Positive</td>\n",
       "      <td>A friend of mine recently gave me an echo. 2nd...</td>\n",
       "    </tr>\n",
       "    <tr>\n",
       "      <th>3</th>\n",
       "      <td>\\nI have had homepod mini, the original homepo...</td>\n",
       "      <td>Positive</td>\n",
       "      <td>I have had homepod mini, the original homepod,...</td>\n",
       "    </tr>\n",
       "    <tr>\n",
       "      <th>4</th>\n",
       "      <td>\\nThe new Echo 4th Gen is a big change in aest...</td>\n",
       "      <td>Positive</td>\n",
       "      <td>The new Echo 4th Gen is a big change in aesthe...</td>\n",
       "    </tr>\n",
       "  </tbody>\n",
       "</table>\n",
       "</div>"
      ],
      "text/plain": [
       "                                             Reviews   Ratings  \\\n",
       "0  \\nThis is an honest review and comparison of t...  Positive   \n",
       "1  \\nI have my apartment which is not a small apa...  Positive   \n",
       "2  \\nA friend of mine recently gave me an echo. 2...  Positive   \n",
       "3  \\nI have had homepod mini, the original homepo...  Positive   \n",
       "4  \\nThe new Echo 4th Gen is a big change in aest...  Positive   \n",
       "\n",
       "                                         Reviews_Str  \n",
       "0  This is an honest review and comparison of the...  \n",
       "1  I have my apartment which is not a small apart...  \n",
       "2  A friend of mine recently gave me an echo. 2nd...  \n",
       "3  I have had homepod mini, the original homepod,...  \n",
       "4  The new Echo 4th Gen is a big change in aesthe...  "
      ]
     },
     "execution_count": 11,
     "metadata": {},
     "output_type": "execute_result"
    }
   ],
   "source": [
    "df['Reviews_Str'] = [' '.join(map(str, l)) for l in df_no_contracts]\n",
    "df.head()"
   ]
  },
  {
   "cell_type": "code",
   "execution_count": 12,
   "id": "c5edd426",
   "metadata": {},
   "outputs": [
    {
     "data": {
      "text/html": [
       "<div>\n",
       "<style scoped>\n",
       "    .dataframe tbody tr th:only-of-type {\n",
       "        vertical-align: middle;\n",
       "    }\n",
       "\n",
       "    .dataframe tbody tr th {\n",
       "        vertical-align: top;\n",
       "    }\n",
       "\n",
       "    .dataframe thead th {\n",
       "        text-align: right;\n",
       "    }\n",
       "</style>\n",
       "<table border=\"1\" class=\"dataframe\">\n",
       "  <thead>\n",
       "    <tr style=\"text-align: right;\">\n",
       "      <th></th>\n",
       "      <th>Reviews</th>\n",
       "      <th>Ratings</th>\n",
       "      <th>Reviews_Str</th>\n",
       "    </tr>\n",
       "  </thead>\n",
       "  <tbody>\n",
       "    <tr>\n",
       "      <th>0</th>\n",
       "      <td>\\nThis is an honest review and comparison of t...</td>\n",
       "      <td>Positive</td>\n",
       "      <td>[This, is, an, honest, review, and, comparison...</td>\n",
       "    </tr>\n",
       "    <tr>\n",
       "      <th>1</th>\n",
       "      <td>\\nI have my apartment which is not a small apa...</td>\n",
       "      <td>Positive</td>\n",
       "      <td>[I, have, my, apartment, which, is, not, a, sm...</td>\n",
       "    </tr>\n",
       "    <tr>\n",
       "      <th>2</th>\n",
       "      <td>\\nA friend of mine recently gave me an echo. 2...</td>\n",
       "      <td>Positive</td>\n",
       "      <td>[A, friend, of, mine, recently, gave, me, an, ...</td>\n",
       "    </tr>\n",
       "    <tr>\n",
       "      <th>3</th>\n",
       "      <td>\\nI have had homepod mini, the original homepo...</td>\n",
       "      <td>Positive</td>\n",
       "      <td>[I, have, had, homepod, mini, ,, the, original...</td>\n",
       "    </tr>\n",
       "    <tr>\n",
       "      <th>4</th>\n",
       "      <td>\\nThe new Echo 4th Gen is a big change in aest...</td>\n",
       "      <td>Positive</td>\n",
       "      <td>[The, new, Echo, 4th, Gen, is, a, big, change,...</td>\n",
       "    </tr>\n",
       "  </tbody>\n",
       "</table>\n",
       "</div>"
      ],
      "text/plain": [
       "                                             Reviews   Ratings  \\\n",
       "0  \\nThis is an honest review and comparison of t...  Positive   \n",
       "1  \\nI have my apartment which is not a small apa...  Positive   \n",
       "2  \\nA friend of mine recently gave me an echo. 2...  Positive   \n",
       "3  \\nI have had homepod mini, the original homepo...  Positive   \n",
       "4  \\nThe new Echo 4th Gen is a big change in aest...  Positive   \n",
       "\n",
       "                                         Reviews_Str  \n",
       "0  [This, is, an, honest, review, and, comparison...  \n",
       "1  [I, have, my, apartment, which, is, not, a, sm...  \n",
       "2  [A, friend, of, mine, recently, gave, me, an, ...  \n",
       "3  [I, have, had, homepod, mini, ,, the, original...  \n",
       "4  [The, new, Echo, 4th, Gen, is, a, big, change,...  "
      ]
     },
     "execution_count": 12,
     "metadata": {},
     "output_type": "execute_result"
    }
   ],
   "source": [
    "#Tokenization\n",
    "from nltk.tokenize import word_tokenize\n",
    "from nltk.corpus import stopwords, wordnet\n",
    "from nltk.stem import WordNetLemmatizer\n",
    "df['Reviews_Str'] =  df['Reviews_Str'].apply(word_tokenize)\n",
    "df.head()"
   ]
  },
  {
   "cell_type": "code",
   "execution_count": 13,
   "id": "274cf2e8",
   "metadata": {},
   "outputs": [
    {
     "data": {
      "text/html": [
       "<div>\n",
       "<style scoped>\n",
       "    .dataframe tbody tr th:only-of-type {\n",
       "        vertical-align: middle;\n",
       "    }\n",
       "\n",
       "    .dataframe tbody tr th {\n",
       "        vertical-align: top;\n",
       "    }\n",
       "\n",
       "    .dataframe thead th {\n",
       "        text-align: right;\n",
       "    }\n",
       "</style>\n",
       "<table border=\"1\" class=\"dataframe\">\n",
       "  <thead>\n",
       "    <tr style=\"text-align: right;\">\n",
       "      <th></th>\n",
       "      <th>Reviews</th>\n",
       "      <th>Ratings</th>\n",
       "      <th>Reviews_Str</th>\n",
       "    </tr>\n",
       "  </thead>\n",
       "  <tbody>\n",
       "    <tr>\n",
       "      <th>0</th>\n",
       "      <td>\\nThis is an honest review and comparison of t...</td>\n",
       "      <td>Positive</td>\n",
       "      <td>[this, is, an, honest, review, and, comparison...</td>\n",
       "    </tr>\n",
       "    <tr>\n",
       "      <th>1</th>\n",
       "      <td>\\nI have my apartment which is not a small apa...</td>\n",
       "      <td>Positive</td>\n",
       "      <td>[i, have, my, apartment, which, is, not, a, sm...</td>\n",
       "    </tr>\n",
       "    <tr>\n",
       "      <th>2</th>\n",
       "      <td>\\nA friend of mine recently gave me an echo. 2...</td>\n",
       "      <td>Positive</td>\n",
       "      <td>[a, friend, of, mine, recently, gave, me, an, ...</td>\n",
       "    </tr>\n",
       "    <tr>\n",
       "      <th>3</th>\n",
       "      <td>\\nI have had homepod mini, the original homepo...</td>\n",
       "      <td>Positive</td>\n",
       "      <td>[i, have, had, homepod, mini, ,, the, original...</td>\n",
       "    </tr>\n",
       "    <tr>\n",
       "      <th>4</th>\n",
       "      <td>\\nThe new Echo 4th Gen is a big change in aest...</td>\n",
       "      <td>Positive</td>\n",
       "      <td>[the, new, echo, 4th, gen, is, a, big, change,...</td>\n",
       "    </tr>\n",
       "  </tbody>\n",
       "</table>\n",
       "</div>"
      ],
      "text/plain": [
       "                                             Reviews   Ratings  \\\n",
       "0  \\nThis is an honest review and comparison of t...  Positive   \n",
       "1  \\nI have my apartment which is not a small apa...  Positive   \n",
       "2  \\nA friend of mine recently gave me an echo. 2...  Positive   \n",
       "3  \\nI have had homepod mini, the original homepo...  Positive   \n",
       "4  \\nThe new Echo 4th Gen is a big change in aest...  Positive   \n",
       "\n",
       "                                         Reviews_Str  \n",
       "0  [this, is, an, honest, review, and, comparison...  \n",
       "1  [i, have, my, apartment, which, is, not, a, sm...  \n",
       "2  [a, friend, of, mine, recently, gave, me, an, ...  \n",
       "3  [i, have, had, homepod, mini, ,, the, original...  \n",
       "4  [the, new, echo, 4th, gen, is, a, big, change,...  "
      ]
     },
     "execution_count": 13,
     "metadata": {},
     "output_type": "execute_result"
    }
   ],
   "source": [
    "#Lower casing\n",
    "df['Reviews_Str'] = df['Reviews_Str'].apply(lambda x: [word.lower() for word in x])\n",
    "df.head()"
   ]
  },
  {
   "cell_type": "code",
   "execution_count": 14,
   "id": "76d2befe",
   "metadata": {},
   "outputs": [
    {
     "data": {
      "text/html": [
       "<div>\n",
       "<style scoped>\n",
       "    .dataframe tbody tr th:only-of-type {\n",
       "        vertical-align: middle;\n",
       "    }\n",
       "\n",
       "    .dataframe tbody tr th {\n",
       "        vertical-align: top;\n",
       "    }\n",
       "\n",
       "    .dataframe thead th {\n",
       "        text-align: right;\n",
       "    }\n",
       "</style>\n",
       "<table border=\"1\" class=\"dataframe\">\n",
       "  <thead>\n",
       "    <tr style=\"text-align: right;\">\n",
       "      <th></th>\n",
       "      <th>Reviews</th>\n",
       "      <th>Ratings</th>\n",
       "      <th>Reviews_Str</th>\n",
       "    </tr>\n",
       "  </thead>\n",
       "  <tbody>\n",
       "    <tr>\n",
       "      <th>4995</th>\n",
       "      <td>\\nI like that you can connect with smart devic...</td>\n",
       "      <td>Positive</td>\n",
       "      <td>[i, like, that, you, can, connect, with, smart...</td>\n",
       "    </tr>\n",
       "    <tr>\n",
       "      <th>4996</th>\n",
       "      <td>\\nUpgraded  from regular echo dot puck style  ...</td>\n",
       "      <td>Positive</td>\n",
       "      <td>[upgraded, from, regular, echo, dot, puck, sty...</td>\n",
       "    </tr>\n",
       "    <tr>\n",
       "      <th>4997</th>\n",
       "      <td>\\nI love the new ball shape. Its pretty and th...</td>\n",
       "      <td>Positive</td>\n",
       "      <td>[i, love, the, new, ball, shape, its, pretty, ...</td>\n",
       "    </tr>\n",
       "    <tr>\n",
       "      <th>4998</th>\n",
       "      <td>\\neasy to set up and has good sound. have not ...</td>\n",
       "      <td>Positive</td>\n",
       "      <td>[easy, to, set, up, and, has, good, sound, hav...</td>\n",
       "    </tr>\n",
       "    <tr>\n",
       "      <th>4999</th>\n",
       "      <td>\\nI luv everything abt except I have not yet l...</td>\n",
       "      <td>Positive</td>\n",
       "      <td>[i, love, everything, about, except, i, have, ...</td>\n",
       "    </tr>\n",
       "  </tbody>\n",
       "</table>\n",
       "</div>"
      ],
      "text/plain": [
       "                                                Reviews   Ratings  \\\n",
       "4995  \\nI like that you can connect with smart devic...  Positive   \n",
       "4996  \\nUpgraded  from regular echo dot puck style  ...  Positive   \n",
       "4997  \\nI love the new ball shape. Its pretty and th...  Positive   \n",
       "4998  \\neasy to set up and has good sound. have not ...  Positive   \n",
       "4999  \\nI luv everything abt except I have not yet l...  Positive   \n",
       "\n",
       "                                            Reviews_Str  \n",
       "4995  [i, like, that, you, can, connect, with, smart...  \n",
       "4996  [upgraded, from, regular, echo, dot, puck, sty...  \n",
       "4997  [i, love, the, new, ball, shape, its, pretty, ...  \n",
       "4998  [easy, to, set, up, and, has, good, sound, hav...  \n",
       "4999  [i, love, everything, about, except, i, have, ...  "
      ]
     },
     "execution_count": 14,
     "metadata": {},
     "output_type": "execute_result"
    }
   ],
   "source": [
    "#removing punctuation\n",
    "import string\n",
    "punc = string.punctuation\n",
    "df['Reviews_Str'] = df['Reviews_Str'].apply(lambda x: [word for word in x if word not in punc])\n",
    "df.tail()"
   ]
  },
  {
   "cell_type": "code",
   "execution_count": 15,
   "id": "002ab932",
   "metadata": {},
   "outputs": [],
   "source": [
    "# nltk.download('stopwords')"
   ]
  },
  {
   "cell_type": "code",
   "execution_count": 16,
   "id": "e96e012f",
   "metadata": {},
   "outputs": [
    {
     "data": {
      "text/html": [
       "<div>\n",
       "<style scoped>\n",
       "    .dataframe tbody tr th:only-of-type {\n",
       "        vertical-align: middle;\n",
       "    }\n",
       "\n",
       "    .dataframe tbody tr th {\n",
       "        vertical-align: top;\n",
       "    }\n",
       "\n",
       "    .dataframe thead th {\n",
       "        text-align: right;\n",
       "    }\n",
       "</style>\n",
       "<table border=\"1\" class=\"dataframe\">\n",
       "  <thead>\n",
       "    <tr style=\"text-align: right;\">\n",
       "      <th></th>\n",
       "      <th>Reviews</th>\n",
       "      <th>Ratings</th>\n",
       "      <th>Reviews_Str</th>\n",
       "    </tr>\n",
       "  </thead>\n",
       "  <tbody>\n",
       "    <tr>\n",
       "      <th>0</th>\n",
       "      <td>\\nThis is an honest review and comparison of t...</td>\n",
       "      <td>Positive</td>\n",
       "      <td>[honest, review, comparison, new, 4th, generat...</td>\n",
       "    </tr>\n",
       "    <tr>\n",
       "      <th>1</th>\n",
       "      <td>\\nI have my apartment which is not a small apa...</td>\n",
       "      <td>Positive</td>\n",
       "      <td>[apartment, small, apartment, loft, well, 12-y...</td>\n",
       "    </tr>\n",
       "    <tr>\n",
       "      <th>2</th>\n",
       "      <td>\\nA friend of mine recently gave me an echo. 2...</td>\n",
       "      <td>Positive</td>\n",
       "      <td>[friend, mine, recently, gave, echo, 2nd, gen....</td>\n",
       "    </tr>\n",
       "    <tr>\n",
       "      <th>3</th>\n",
       "      <td>\\nI have had homepod mini, the original homepo...</td>\n",
       "      <td>Positive</td>\n",
       "      <td>[homepod, mini, original, homepod, echo, first...</td>\n",
       "    </tr>\n",
       "    <tr>\n",
       "      <th>4</th>\n",
       "      <td>\\nThe new Echo 4th Gen is a big change in aest...</td>\n",
       "      <td>Positive</td>\n",
       "      <td>[new, echo, 4th, gen, big, change, aesthetics,...</td>\n",
       "    </tr>\n",
       "  </tbody>\n",
       "</table>\n",
       "</div>"
      ],
      "text/plain": [
       "                                             Reviews   Ratings  \\\n",
       "0  \\nThis is an honest review and comparison of t...  Positive   \n",
       "1  \\nI have my apartment which is not a small apa...  Positive   \n",
       "2  \\nA friend of mine recently gave me an echo. 2...  Positive   \n",
       "3  \\nI have had homepod mini, the original homepo...  Positive   \n",
       "4  \\nThe new Echo 4th Gen is a big change in aest...  Positive   \n",
       "\n",
       "                                         Reviews_Str  \n",
       "0  [honest, review, comparison, new, 4th, generat...  \n",
       "1  [apartment, small, apartment, loft, well, 12-y...  \n",
       "2  [friend, mine, recently, gave, echo, 2nd, gen....  \n",
       "3  [homepod, mini, original, homepod, echo, first...  \n",
       "4  [new, echo, 4th, gen, big, change, aesthetics,...  "
      ]
     },
     "execution_count": 16,
     "metadata": {},
     "output_type": "execute_result"
    }
   ],
   "source": [
    "#removing stop words\n",
    "stop_words = set(stopwords.words('english'))\n",
    "df['Reviews_Str'] = df['Reviews_Str'].apply(lambda x: [word for word in x if word not in stop_words])\n",
    "df.head()"
   ]
  },
  {
   "cell_type": "code",
   "execution_count": 17,
   "id": "076c3ad4",
   "metadata": {},
   "outputs": [
    {
     "data": {
      "text/html": [
       "<div>\n",
       "<style scoped>\n",
       "    .dataframe tbody tr th:only-of-type {\n",
       "        vertical-align: middle;\n",
       "    }\n",
       "\n",
       "    .dataframe tbody tr th {\n",
       "        vertical-align: top;\n",
       "    }\n",
       "\n",
       "    .dataframe thead th {\n",
       "        text-align: right;\n",
       "    }\n",
       "</style>\n",
       "<table border=\"1\" class=\"dataframe\">\n",
       "  <thead>\n",
       "    <tr style=\"text-align: right;\">\n",
       "      <th></th>\n",
       "      <th>Reviews</th>\n",
       "      <th>Ratings</th>\n",
       "      <th>Reviews_Str</th>\n",
       "      <th>POS tagging</th>\n",
       "    </tr>\n",
       "  </thead>\n",
       "  <tbody>\n",
       "    <tr>\n",
       "      <th>0</th>\n",
       "      <td>\\nThis is an honest review and comparison of t...</td>\n",
       "      <td>Positive</td>\n",
       "      <td>[honest, review, comparison, new, 4th, generat...</td>\n",
       "      <td>[(honest, JJS), (review, NN), (comparison, NN)...</td>\n",
       "    </tr>\n",
       "    <tr>\n",
       "      <th>1</th>\n",
       "      <td>\\nI have my apartment which is not a small apa...</td>\n",
       "      <td>Positive</td>\n",
       "      <td>[apartment, small, apartment, loft, well, 12-y...</td>\n",
       "      <td>[(apartment, NN), (small, JJ), (apartment, NN)...</td>\n",
       "    </tr>\n",
       "    <tr>\n",
       "      <th>2</th>\n",
       "      <td>\\nA friend of mine recently gave me an echo. 2...</td>\n",
       "      <td>Positive</td>\n",
       "      <td>[friend, mine, recently, gave, echo, 2nd, gen....</td>\n",
       "      <td>[(friend, NN), (mine, NN), (recently, RB), (ga...</td>\n",
       "    </tr>\n",
       "    <tr>\n",
       "      <th>3</th>\n",
       "      <td>\\nI have had homepod mini, the original homepo...</td>\n",
       "      <td>Positive</td>\n",
       "      <td>[homepod, mini, original, homepod, echo, first...</td>\n",
       "      <td>[(homepod, NN), (mini, NN), (original, JJ), (h...</td>\n",
       "    </tr>\n",
       "    <tr>\n",
       "      <th>4</th>\n",
       "      <td>\\nThe new Echo 4th Gen is a big change in aest...</td>\n",
       "      <td>Positive</td>\n",
       "      <td>[new, echo, 4th, gen, big, change, aesthetics,...</td>\n",
       "      <td>[(new, JJ), (echo, JJ), (4th, CD), (gen, NN), ...</td>\n",
       "    </tr>\n",
       "  </tbody>\n",
       "</table>\n",
       "</div>"
      ],
      "text/plain": [
       "                                             Reviews   Ratings  \\\n",
       "0  \\nThis is an honest review and comparison of t...  Positive   \n",
       "1  \\nI have my apartment which is not a small apa...  Positive   \n",
       "2  \\nA friend of mine recently gave me an echo. 2...  Positive   \n",
       "3  \\nI have had homepod mini, the original homepo...  Positive   \n",
       "4  \\nThe new Echo 4th Gen is a big change in aest...  Positive   \n",
       "\n",
       "                                         Reviews_Str  \\\n",
       "0  [honest, review, comparison, new, 4th, generat...   \n",
       "1  [apartment, small, apartment, loft, well, 12-y...   \n",
       "2  [friend, mine, recently, gave, echo, 2nd, gen....   \n",
       "3  [homepod, mini, original, homepod, echo, first...   \n",
       "4  [new, echo, 4th, gen, big, change, aesthetics,...   \n",
       "\n",
       "                                         POS tagging  \n",
       "0  [(honest, JJS), (review, NN), (comparison, NN)...  \n",
       "1  [(apartment, NN), (small, JJ), (apartment, NN)...  \n",
       "2  [(friend, NN), (mine, NN), (recently, RB), (ga...  \n",
       "3  [(homepod, NN), (mini, NN), (original, JJ), (h...  \n",
       "4  [(new, JJ), (echo, JJ), (4th, CD), (gen, NN), ...  "
      ]
     },
     "execution_count": 17,
     "metadata": {},
     "output_type": "execute_result"
    }
   ],
   "source": [
    "#POS tagging\n",
    "df['POS tagging'] = df['Reviews_Str'].apply(nltk.tag.pos_tag)\n",
    "df.head()"
   ]
  },
  {
   "cell_type": "code",
   "execution_count": 18,
   "id": "af549125",
   "metadata": {},
   "outputs": [
    {
     "name": "stdout",
     "output_type": "stream",
     "text": [
      "                                             Reviews   Ratings  \\\n",
      "0  \\nThis is an honest review and comparison of t...  Positive   \n",
      "1  \\nI have my apartment which is not a small apa...  Positive   \n",
      "\n",
      "                                         Reviews_Str  \\\n",
      "0  [honest, review, comparison, new, 4th, generat...   \n",
      "1  [apartment, small, apartment, loft, well, 12-y...   \n",
      "\n",
      "                                         POS tagging  \n",
      "0  [(honest, JJS), (review, NN), (comparison, NN)...  \n",
      "1  [(apartment, NN), (small, JJ), (apartment, NN)...  \n",
      "\n",
      "POS tagging for Word lemmatizer\n",
      "\n",
      "0       [(honest, a), (review, n), (comparison, n), (n...\n",
      "1       [(apartment, n), (small, a), (apartment, n), (...\n",
      "2       [(friend, n), (mine, n), (recently, r), (gave,...\n",
      "3       [(homepod, n), (mini, n), (original, a), (home...\n",
      "4       [(new, a), (echo, a), (4th, n), (gen, n), (big...\n",
      "                              ...                        \n",
      "4995    [(like, n), (connect, a), (smart, a), (devices...\n",
      "4996    [(upgraded, a), (regular, a), (echo, n), (dot,...\n",
      "4997    [(love, v), (new, a), (ball, n), (shape, n), (...\n",
      "4998    [(easy, a), (set, v), (good, a), (sound, n), (...\n",
      "4999    [(love, v), (everything, n), (except, n), (yet...\n",
      "Name: POS tagging, Length: 4982, dtype: object\n"
     ]
    }
   ],
   "source": [
    "def get_wordnet_pos(tag):\n",
    "    if tag.startswith('J'):\n",
    "        return wordnet.ADJ\n",
    "    elif tag.startswith('V'):\n",
    "        return wordnet.VERB\n",
    "    elif tag.startswith('N'):\n",
    "        return wordnet.NOUN\n",
    "    elif tag.startswith('R'):\n",
    "        return wordnet.ADV\n",
    "    else:\n",
    "        return wordnet.NOUN\n",
    "df_wordnet_pos = df['POS tagging'].apply(lambda x: [(word, get_wordnet_pos(pos_tag)) for (word, pos_tag) in x])\n",
    "print(df.head(2))\n",
    "print('\\nPOS tagging for Word lemmatizer\\n')\n",
    "print(df_wordnet_pos)"
   ]
  },
  {
   "cell_type": "code",
   "execution_count": 19,
   "id": "1625984f",
   "metadata": {},
   "outputs": [
    {
     "data": {
      "text/html": [
       "<div>\n",
       "<style scoped>\n",
       "    .dataframe tbody tr th:only-of-type {\n",
       "        vertical-align: middle;\n",
       "    }\n",
       "\n",
       "    .dataframe tbody tr th {\n",
       "        vertical-align: top;\n",
       "    }\n",
       "\n",
       "    .dataframe thead th {\n",
       "        text-align: right;\n",
       "    }\n",
       "</style>\n",
       "<table border=\"1\" class=\"dataframe\">\n",
       "  <thead>\n",
       "    <tr style=\"text-align: right;\">\n",
       "      <th></th>\n",
       "      <th>Reviews</th>\n",
       "      <th>Ratings</th>\n",
       "      <th>Reviews_Str</th>\n",
       "      <th>POS tagging</th>\n",
       "    </tr>\n",
       "  </thead>\n",
       "  <tbody>\n",
       "    <tr>\n",
       "      <th>0</th>\n",
       "      <td>\\nThis is an honest review and comparison of t...</td>\n",
       "      <td>Positive</td>\n",
       "      <td>honest review comparison new 4th generation ec...</td>\n",
       "      <td>[(honest, JJS), (review, NN), (comparison, NN)...</td>\n",
       "    </tr>\n",
       "    <tr>\n",
       "      <th>1</th>\n",
       "      <td>\\nI have my apartment which is not a small apa...</td>\n",
       "      <td>Positive</td>\n",
       "      <td>apartment small apartment loft well 12-year-ol...</td>\n",
       "      <td>[(apartment, NN), (small, JJ), (apartment, NN)...</td>\n",
       "    </tr>\n",
       "    <tr>\n",
       "      <th>2</th>\n",
       "      <td>\\nA friend of mine recently gave me an echo. 2...</td>\n",
       "      <td>Positive</td>\n",
       "      <td>friend mine recently give echo 2nd gen. think ...</td>\n",
       "      <td>[(friend, NN), (mine, NN), (recently, RB), (ga...</td>\n",
       "    </tr>\n",
       "    <tr>\n",
       "      <th>3</th>\n",
       "      <td>\\nI have had homepod mini, the original homepo...</td>\n",
       "      <td>Positive</td>\n",
       "      <td>homepod mini original homepod echo first party...</td>\n",
       "      <td>[(homepod, NN), (mini, NN), (original, JJ), (h...</td>\n",
       "    </tr>\n",
       "    <tr>\n",
       "      <th>4</th>\n",
       "      <td>\\nThe new Echo 4th Gen is a big change in aest...</td>\n",
       "      <td>Positive</td>\n",
       "      <td>new echo 4th gen big change aesthetic design e...</td>\n",
       "      <td>[(new, JJ), (echo, JJ), (4th, CD), (gen, NN), ...</td>\n",
       "    </tr>\n",
       "  </tbody>\n",
       "</table>\n",
       "</div>"
      ],
      "text/plain": [
       "                                             Reviews   Ratings  \\\n",
       "0  \\nThis is an honest review and comparison of t...  Positive   \n",
       "1  \\nI have my apartment which is not a small apa...  Positive   \n",
       "2  \\nA friend of mine recently gave me an echo. 2...  Positive   \n",
       "3  \\nI have had homepod mini, the original homepo...  Positive   \n",
       "4  \\nThe new Echo 4th Gen is a big change in aest...  Positive   \n",
       "\n",
       "                                         Reviews_Str  \\\n",
       "0  honest review comparison new 4th generation ec...   \n",
       "1  apartment small apartment loft well 12-year-ol...   \n",
       "2  friend mine recently give echo 2nd gen. think ...   \n",
       "3  homepod mini original homepod echo first party...   \n",
       "4  new echo 4th gen big change aesthetic design e...   \n",
       "\n",
       "                                         POS tagging  \n",
       "0  [(honest, JJS), (review, NN), (comparison, NN)...  \n",
       "1  [(apartment, NN), (small, JJ), (apartment, NN)...  \n",
       "2  [(friend, NN), (mine, NN), (recently, RB), (ga...  \n",
       "3  [(homepod, NN), (mini, NN), (original, JJ), (h...  \n",
       "4  [(new, JJ), (echo, JJ), (4th, CD), (gen, NN), ...  "
      ]
     },
     "execution_count": 19,
     "metadata": {},
     "output_type": "execute_result"
    }
   ],
   "source": [
    "#Lemmatization using WordNet\n",
    "lem = WordNetLemmatizer()\n",
    "df_lemma= df_wordnet_pos.apply(lambda x: [lem.lemmatize(word, tag) for word, tag in x])\n",
    "df['Reviews_Str']=[' '.join(map(str, l)) for l in df_lemma]\n",
    "df.head()"
   ]
  },
  {
   "cell_type": "code",
   "execution_count": 20,
   "id": "53945136",
   "metadata": {},
   "outputs": [],
   "source": [
    "#Saved Preprocessed data to .csv file\n",
    "# df.to_csv('Processed Amazon Echo reviews.csv')"
   ]
  },
  {
   "cell_type": "code",
   "execution_count": 4,
   "id": "08fc2fd8",
   "metadata": {},
   "outputs": [],
   "source": [
    "from sklearn.model_selection import train_test_split"
   ]
  },
  {
   "cell_type": "code",
   "execution_count": 21,
   "id": "0d4fe63a",
   "metadata": {},
   "outputs": [],
   "source": [
    "new_df=pd.read_csv('https://raw.githubusercontent.com/shardulchavan/Text_Summarization_NLP/master/CustomerReview_Classification_%26_SentimentAnalysis/Processed%20Amazon%20Echo%20reviews.csv')"
   ]
  },
  {
   "cell_type": "code",
   "execution_count": 22,
   "id": "e5752e74",
   "metadata": {},
   "outputs": [
    {
     "name": "stdout",
     "output_type": "stream",
     "text": [
      "(4982, 5)\n"
     ]
    },
    {
     "data": {
      "text/html": [
       "<div>\n",
       "<style scoped>\n",
       "    .dataframe tbody tr th:only-of-type {\n",
       "        vertical-align: middle;\n",
       "    }\n",
       "\n",
       "    .dataframe tbody tr th {\n",
       "        vertical-align: top;\n",
       "    }\n",
       "\n",
       "    .dataframe thead th {\n",
       "        text-align: right;\n",
       "    }\n",
       "</style>\n",
       "<table border=\"1\" class=\"dataframe\">\n",
       "  <thead>\n",
       "    <tr style=\"text-align: right;\">\n",
       "      <th></th>\n",
       "      <th>Unnamed: 0</th>\n",
       "      <th>Reviews</th>\n",
       "      <th>Ratings</th>\n",
       "      <th>Reviews_Str</th>\n",
       "      <th>POS tagging</th>\n",
       "    </tr>\n",
       "  </thead>\n",
       "  <tbody>\n",
       "    <tr>\n",
       "      <th>0</th>\n",
       "      <td>0</td>\n",
       "      <td>\\nThis is an honest review and comparison of t...</td>\n",
       "      <td>Positive</td>\n",
       "      <td>honest review comparison new 4th generation ec...</td>\n",
       "      <td>[('honest', 'JJS'), ('review', 'NN'), ('compar...</td>\n",
       "    </tr>\n",
       "    <tr>\n",
       "      <th>1</th>\n",
       "      <td>1</td>\n",
       "      <td>\\nI have my apartment which is not a small apa...</td>\n",
       "      <td>Positive</td>\n",
       "      <td>apartment small apartment loft well 12-year-ol...</td>\n",
       "      <td>[('apartment', 'NN'), ('small', 'JJ'), ('apart...</td>\n",
       "    </tr>\n",
       "    <tr>\n",
       "      <th>2</th>\n",
       "      <td>2</td>\n",
       "      <td>\\nA friend of mine recently gave me an echo. 2...</td>\n",
       "      <td>Positive</td>\n",
       "      <td>friend mine recently give echo 2nd gen. think ...</td>\n",
       "      <td>[('friend', 'NN'), ('mine', 'NN'), ('recently'...</td>\n",
       "    </tr>\n",
       "    <tr>\n",
       "      <th>3</th>\n",
       "      <td>3</td>\n",
       "      <td>\\nI have had homepod mini, the original homepo...</td>\n",
       "      <td>Positive</td>\n",
       "      <td>homepod mini original homepod echo first party...</td>\n",
       "      <td>[('homepod', 'NN'), ('mini', 'NN'), ('original...</td>\n",
       "    </tr>\n",
       "    <tr>\n",
       "      <th>4</th>\n",
       "      <td>4</td>\n",
       "      <td>\\nThe new Echo 4th Gen is a big change in aest...</td>\n",
       "      <td>Positive</td>\n",
       "      <td>new echo 4th gen big change aesthetic design e...</td>\n",
       "      <td>[('new', 'JJ'), ('echo', 'JJ'), ('4th', 'CD'),...</td>\n",
       "    </tr>\n",
       "  </tbody>\n",
       "</table>\n",
       "</div>"
      ],
      "text/plain": [
       "   Unnamed: 0                                            Reviews   Ratings  \\\n",
       "0           0  \\nThis is an honest review and comparison of t...  Positive   \n",
       "1           1  \\nI have my apartment which is not a small apa...  Positive   \n",
       "2           2  \\nA friend of mine recently gave me an echo. 2...  Positive   \n",
       "3           3  \\nI have had homepod mini, the original homepo...  Positive   \n",
       "4           4  \\nThe new Echo 4th Gen is a big change in aest...  Positive   \n",
       "\n",
       "                                         Reviews_Str  \\\n",
       "0  honest review comparison new 4th generation ec...   \n",
       "1  apartment small apartment loft well 12-year-ol...   \n",
       "2  friend mine recently give echo 2nd gen. think ...   \n",
       "3  homepod mini original homepod echo first party...   \n",
       "4  new echo 4th gen big change aesthetic design e...   \n",
       "\n",
       "                                         POS tagging  \n",
       "0  [('honest', 'JJS'), ('review', 'NN'), ('compar...  \n",
       "1  [('apartment', 'NN'), ('small', 'JJ'), ('apart...  \n",
       "2  [('friend', 'NN'), ('mine', 'NN'), ('recently'...  \n",
       "3  [('homepod', 'NN'), ('mini', 'NN'), ('original...  \n",
       "4  [('new', 'JJ'), ('echo', 'JJ'), ('4th', 'CD'),...  "
      ]
     },
     "execution_count": 22,
     "metadata": {},
     "output_type": "execute_result"
    }
   ],
   "source": [
    "print(new_df.shape)\n",
    "new_df.head()"
   ]
  },
  {
   "cell_type": "code",
   "execution_count": 11,
   "id": "1e22cba0",
   "metadata": {},
   "outputs": [
    {
     "data": {
      "text/plain": [
       "Unnamed: 0     0\n",
       "Reviews        0\n",
       "Ratings        0\n",
       "Reviews_Str    3\n",
       "POS tagging    0\n",
       "dtype: int64"
      ]
     },
     "execution_count": 11,
     "metadata": {},
     "output_type": "execute_result"
    }
   ],
   "source": [
    "#Checking null values in pre-processed data\n",
    "new_df.isnull().sum()"
   ]
  },
  {
   "cell_type": "code",
   "execution_count": 12,
   "id": "d7c3a7f9",
   "metadata": {},
   "outputs": [],
   "source": [
    "new_df.dropna(axis=0,inplace=True)"
   ]
  },
  {
   "cell_type": "code",
   "execution_count": 13,
   "id": "fd9d80fd",
   "metadata": {},
   "outputs": [
    {
     "data": {
      "text/plain": [
       "Unnamed: 0     0\n",
       "Reviews        0\n",
       "Ratings        0\n",
       "Reviews_Str    0\n",
       "POS tagging    0\n",
       "dtype: int64"
      ]
     },
     "execution_count": 13,
     "metadata": {},
     "output_type": "execute_result"
    }
   ],
   "source": [
    "new_df.isnull().sum()"
   ]
  },
  {
   "cell_type": "code",
   "execution_count": 15,
   "id": "9bcae140",
   "metadata": {},
   "outputs": [
    {
     "name": "stderr",
     "output_type": "stream",
     "text": [
      "C:\\Users\\chava\\anaconda3\\lib\\site-packages\\seaborn\\_decorators.py:36: FutureWarning: Pass the following variable as a keyword arg: x. From version 0.12, the only valid positional argument will be `data`, and passing other arguments without an explicit keyword will result in an error or misinterpretation.\n",
      "  warnings.warn(\n"
     ]
    },
    {
     "data": {
      "text/plain": [
       "<AxesSubplot:xlabel='Ratings', ylabel='count'>"
      ]
     },
     "execution_count": 15,
     "metadata": {},
     "output_type": "execute_result"
    },
    {
     "data": {
      "image/png": "[encoded data removed]",
      "text/plain": [
       "<Figure size 640x480 with 1 Axes>"
      ]
     },
     "metadata": {},
     "output_type": "display_data"
    }
   ],
   "source": [
    "#no. of postive and negative review samples\n",
    "import seaborn as sns\n",
    "sns.countplot(new_df['Ratings'])"
   ]
  },
  {
   "cell_type": "code",
   "execution_count": 27,
   "id": "c53d5d2d",
   "metadata": {},
   "outputs": [],
   "source": [
    "X=new_df.iloc[:,-2]"
   ]
  },
  {
   "cell_type": "code",
   "execution_count": 28,
   "id": "2bd01493",
   "metadata": {},
   "outputs": [],
   "source": [
    "y=new_df.iloc[:,2]"
   ]
  },
  {
   "cell_type": "code",
   "execution_count": 29,
   "id": "b3cb0edc",
   "metadata": {},
   "outputs": [],
   "source": [
    "#Splitting train and test data\n",
    "X_train,X_test,y_train,y_test=train_test_split(X,y,train_size=0.8,shuffle=True)"
   ]
  },
  {
   "cell_type": "code",
   "execution_count": 30,
   "id": "46b3d32f",
   "metadata": {},
   "outputs": [],
   "source": [
    "pd.DataFrame(X_train).reset_index(inplace = True)\n",
    "pd.DataFrame(y_train).reset_index(inplace = True)"
   ]
  },
  {
   "cell_type": "code",
   "execution_count": 31,
   "id": "4ed738b9",
   "metadata": {},
   "outputs": [],
   "source": [
    "#Duplicating negative samples to overcome class imbalance\n",
    "neg = y_train[y_train==\"Negative\"]\n",
    "y_train = pd.concat([y_train, neg, neg])"
   ]
  },
  {
   "cell_type": "code",
   "execution_count": 32,
   "id": "5d735830",
   "metadata": {},
   "outputs": [],
   "source": [
    "R = X_train.loc[list(neg.index)]\n",
    "X_train = pd.concat([X_train, R, R])"
   ]
  },
  {
   "cell_type": "code",
   "execution_count": 33,
   "id": "b854815e",
   "metadata": {},
   "outputs": [],
   "source": [
    "# # y_train.loc[y_train['Ratings']==Negative]\n",
    "# for i in y_train['Ratings']:\n",
    "#     if i==Negative:\n",
    "#         y_train_extra.loc[i]\n",
    "\n",
    "    "
   ]
  },
  {
   "cell_type": "code",
   "execution_count": 34,
   "id": "80ceae9f",
   "metadata": {},
   "outputs": [
    {
     "name": "stdout",
     "output_type": "stream",
     "text": [
      "(4901,)\n",
      "(996,)\n",
      "(4901,)\n",
      "(996,)\n"
     ]
    }
   ],
   "source": [
    "print(X_train.shape)\n",
    "print(X_test.shape)\n",
    "print(y_train.shape)\n",
    "print(y_test.shape)"
   ]
  },
  {
   "cell_type": "code",
   "execution_count": 35,
   "id": "b87c9315",
   "metadata": {},
   "outputs": [],
   "source": [
    "#implementing CountVectorization\n",
    "from sklearn.feature_extraction.text import CountVectorizer\n",
    "count_vect = CountVectorizer()\n",
    "# X_train_counts = count_vect.fit_transform(X_train)\n",
    "# X_train_counts.shape"
   ]
  },
  {
   "cell_type": "code",
   "execution_count": 36,
   "id": "b99934b8",
   "metadata": {},
   "outputs": [
    {
     "data": {
      "text/plain": [
       "array(['00', '000', '020', ..., 'éxito', 'único', 'útil'], dtype=object)"
      ]
     },
     "execution_count": 36,
     "metadata": {},
     "output_type": "execute_result"
    }
   ],
   "source": [
    "#implementing TF-IDF Vectorization\n",
    "from sklearn.feature_extraction.text import TfidfVectorizer\n",
    "vectorizer = TfidfVectorizer()\n",
    "corpus = X_train\n",
    "X_train = vectorizer.fit_transform(corpus)\n",
    "vectorizer.get_feature_names_out()\n"
   ]
  },
  {
   "cell_type": "code",
   "execution_count": 37,
   "id": "8b7d333b",
   "metadata": {},
   "outputs": [
    {
     "data": {
      "text/plain": [
       "array(['00', '000', '020', ..., 'éxito', 'único', 'útil'], dtype=object)"
      ]
     },
     "execution_count": 37,
     "metadata": {},
     "output_type": "execute_result"
    }
   ],
   "source": [
    "\n",
    "X_test = vectorizer.transform(X_test)\n",
    "vectorizer.get_feature_names_out()\n"
   ]
  },
  {
   "cell_type": "code",
   "execution_count": 38,
   "id": "ff5faf9f",
   "metadata": {},
   "outputs": [],
   "source": [
    "X_test = pd.DataFrame(X_test.toarray())"
   ]
  },
  {
   "cell_type": "code",
   "execution_count": 39,
   "id": "bb2fcf7c",
   "metadata": {},
   "outputs": [],
   "source": [
    "X_train = pd.DataFrame(X_train.toarray())"
   ]
  },
  {
   "cell_type": "code",
   "execution_count": 40,
   "id": "5c20ab33",
   "metadata": {},
   "outputs": [
    {
     "name": "stdout",
     "output_type": "stream",
     "text": [
      "(4901, 7431)\n",
      "(996, 7431)\n"
     ]
    }
   ],
   "source": [
    "print(X_train.shape)\n",
    "print(X_test.shape)"
   ]
  },
  {
   "cell_type": "code",
   "execution_count": 41,
   "id": "a010ffa9",
   "metadata": {},
   "outputs": [],
   "source": [
    "#Fitting Multinomial model\n",
    "from sklearn.naive_bayes import MultinomialNB\n",
    "clf = MultinomialNB(alpha=0.6).fit(X_train, y_train)"
   ]
  },
  {
   "cell_type": "code",
   "execution_count": 42,
   "id": "fbec914b",
   "metadata": {},
   "outputs": [],
   "source": [
    "y_pred = clf.predict(X_test)"
   ]
  },
  {
   "cell_type": "code",
   "execution_count": 43,
   "id": "9c2403b3",
   "metadata": {},
   "outputs": [
    {
     "data": {
      "text/plain": [
       "0.9166666666666666"
      ]
     },
     "execution_count": 43,
     "metadata": {},
     "output_type": "execute_result"
    }
   ],
   "source": [
    "np.mean(y_pred==y_test)"
   ]
  },
  {
   "cell_type": "code",
   "execution_count": 44,
   "id": "bf2079e4",
   "metadata": {},
   "outputs": [
    {
     "name": "stdout",
     "output_type": "stream",
     "text": [
      "              precision    recall  f1-score   support\n",
      "\n",
      "    Negative       0.39      0.73      0.51        59\n",
      "    Positive       0.98      0.93      0.95       937\n",
      "\n",
      "    accuracy                           0.92       996\n",
      "   macro avg       0.69      0.83      0.73       996\n",
      "weighted avg       0.95      0.92      0.93       996\n",
      "\n"
     ]
    }
   ],
   "source": [
    "from sklearn.metrics import classification_report\n",
    "print(classification_report(y_pred,y_test))"
   ]
  },
  {
   "cell_type": "code",
   "execution_count": 74,
   "id": "51fe6999",
   "metadata": {},
   "outputs": [],
   "source": [
    "from sklearn.naive_bayes import BernoulliNB"
   ]
  },
  {
   "cell_type": "code",
   "execution_count": 80,
   "id": "d70e2313",
   "metadata": {},
   "outputs": [],
   "source": [
    "#Fitting Bernoulli model\n",
    "clf2 = BernoulliNB()\n",
    "clf2=clf.fit(X_train, y_train)"
   ]
  },
  {
   "cell_type": "code",
   "execution_count": 83,
   "id": "e6d622a9",
   "metadata": {},
   "outputs": [],
   "source": [
    "y_pred2=clf2.predict(X_test)"
   ]
  },
  {
   "cell_type": "code",
   "execution_count": 84,
   "id": "4f1d55e9",
   "metadata": {},
   "outputs": [
    {
     "name": "stdout",
     "output_type": "stream",
     "text": [
      "              precision    recall  f1-score   support\n",
      "\n",
      "    Negative       0.50      0.38      0.43       145\n",
      "    Positive       0.90      0.94      0.92       851\n",
      "\n",
      "    accuracy                           0.85       996\n",
      "   macro avg       0.70      0.66      0.67       996\n",
      "weighted avg       0.84      0.85      0.85       996\n",
      "\n"
     ]
    }
   ],
   "source": [
    "from sklearn.metrics import classification_report\n",
    "print(classification_report(y_pred2,y_test))"
   ]
  },
  {
   "cell_type": "code",
   "execution_count": 77,
   "id": "d7f2f79c",
   "metadata": {},
   "outputs": [],
   "source": [
    "import contractions\n",
    "from nltk.tokenize import word_tokenize\n",
    "from nltk.corpus import stopwords, wordnet\n",
    "from nltk.stem import WordNetLemmatizer\n",
    "import string"
   ]
  },
  {
   "cell_type": "code",
   "execution_count": 54,
   "id": "23bbe974",
   "metadata": {},
   "outputs": [],
   "source": [
    "#Func to test model on new data\n",
    "def txt_preprocessing(text):\n",
    "    lst = []\n",
    "    sentence = text.lower()\n",
    "    words = word_tokenize(sentence)\n",
    "    stop_words = set(stopwords.words('english'))\n",
    "    filtered_sentence = [w for w in words if not w in stop_words] \n",
    "    separator = \", \"\n",
    "    filtered_sentence=separator.join(filtered_sentence)\n",
    "    filtered_sentence = filtered_sentence.split()\n",
    "    s = \"\"\n",
    "    for x in filtered_sentence:\n",
    "        s = s.join(x)\n",
    "    lst.append(s)\n",
    "    txt=vectorizer.transform(lst)\n",
    "    vectorizer.get_feature_names_out()\n",
    "    return txt"
   ]
  },
  {
   "cell_type": "code",
   "execution_count": 66,
   "id": "71fc2ffa",
   "metadata": {},
   "outputs": [
    {
     "name": "stdout",
     "output_type": "stream",
     "text": [
      "  (0, 4568)\t0.7070707336494138\n",
      "  (0, 2419)\t0.010097288396374653\n",
      "  (0, 739)\t0.7070707336494138\n"
     ]
    }
   ],
   "source": [
    "text=\"Amazing product, works handfree. Sometimes doesnt listen but helps a lot with reminders\"\n",
    "txt=txt_preprocessing(text)\n",
    "print(txt)"
   ]
  },
  {
   "cell_type": "code",
   "execution_count": 67,
   "id": "2db41fe3",
   "metadata": {},
   "outputs": [
    {
     "data": {
      "text/plain": [
       "array(['Positive'], dtype='<U8')"
      ]
     },
     "execution_count": 67,
     "metadata": {},
     "output_type": "execute_result"
    }
   ],
   "source": [
    "clf.predict(txt)"
   ]
  },
  {
   "cell_type": "code",
   "execution_count": null,
   "id": "ca452fe5",
   "metadata": {},
   "outputs": [],
   "source": []
  }
 ],
 "metadata": {
  "kernelspec": {
   "display_name": "Python 3 (ipykernel)",
   "language": "python",
   "name": "python3"
  },
  "language_info": {
   "codemirror_mode": {
    "name": "ipython",
    "version": 3
   },
   "file_extension": ".py",
   "mimetype": "text/x-python",
   "name": "python",
   "nbconvert_exporter": "python",
   "pygments_lexer": "ipython3",
   "version": "3.9.13"
  }
 },
 "nbformat": 4,
 "nbformat_minor": 5
}
